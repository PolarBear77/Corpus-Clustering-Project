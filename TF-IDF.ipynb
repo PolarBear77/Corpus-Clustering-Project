{
 "cells": [
  {
   "cell_type": "code",
   "execution_count": 1,
   "metadata": {
    "scrolled": true
   },
   "outputs": [
    {
     "name": "stdout",
     "output_type": "stream",
     "text": [
      "Top words in document 1\n",
      "\tWord: python, TF-IDF: 0.01662\n",
      "\tWord: films, TF-IDF: 0.00997\n",
      "\tWord: made-for-TV, TF-IDF: 0.00665\n",
      "\tWord: film, TF-IDF: 0.00665\n",
      "\tWord: on, TF-IDF: 0.00665\n",
      "\tWord: California, TF-IDF: 0.00665\n",
      "\tWord: 2000, TF-IDF: 0.00332\n",
      "\tWord: horror, TF-IDF: 0.00332\n",
      "\tWord: movie, TF-IDF: 0.00332\n",
      "\tWord: directed, TF-IDF: 0.00332\n",
      "\tWord: Richard, TF-IDF: 0.00332\n",
      "\tWord: Clabaugh, TF-IDF: 0.00332\n",
      "\tWord: features, TF-IDF: 0.00332\n",
      "\tWord: several, TF-IDF: 0.00332\n",
      "\tWord: cult, TF-IDF: 0.00332\n",
      "\tWord: favorite, TF-IDF: 0.00332\n",
      "\tWord: actors, TF-IDF: 0.00332\n",
      "\tWord: including, TF-IDF: 0.00332\n",
      "\tWord: William, TF-IDF: 0.00332\n",
      "\tWord: Zabka, TF-IDF: 0.00332\n",
      "\tWord: Karate, TF-IDF: 0.00332\n",
      "\tWord: Kid, TF-IDF: 0.00332\n",
      "\tWord: fame, TF-IDF: 0.00332\n",
      "\tWord: Wil, TF-IDF: 0.00332\n",
      "\tWord: Wheaton, TF-IDF: 0.00332\n",
      "\tWord: Casper, TF-IDF: 0.00332\n",
      "\tWord: Van, TF-IDF: 0.00332\n",
      "\tWord: Dien, TF-IDF: 0.00332\n",
      "\tWord: Jenny, TF-IDF: 0.00332\n",
      "\tWord: McCarthy, TF-IDF: 0.00332\n",
      "Top words in document 2\n",
      "\tWord: genus, TF-IDF: 0.02192\n",
      "\tWord: 2, TF-IDF: 0.02192\n",
      "\tWord: from, TF-IDF: 0.01096\n",
      "\tWord: Greek, TF-IDF: 0.01096\n",
      "\tWord: word, TF-IDF: 0.01096\n",
      "\tWord: πύθων/πύθωνας, TF-IDF: 0.01096\n",
      "\tWord: nonvenomous, TF-IDF: 0.01096\n",
      "\tWord: pythons, TF-IDF: 0.01096\n",
      "\tWord: found, TF-IDF: 0.01096\n",
      "\tWord: Africa, TF-IDF: 0.01096\n",
      "\tWord: Asia, TF-IDF: 0.01096\n",
      "\tWord: Currently, TF-IDF: 0.01096\n",
      "\tWord: 7, TF-IDF: 0.01096\n",
      "\tWord: species, TF-IDF: 0.01096\n",
      "\tWord: are, TF-IDF: 0.01096\n",
      "\tWord: recognised, TF-IDF: 0.01096\n",
      "\tWord: member, TF-IDF: 0.01096\n",
      "\tWord: this, TF-IDF: 0.01096\n",
      "\tWord: P, TF-IDF: 0.01096\n",
      "\tWord: reticulatus, TF-IDF: 0.01096\n",
      "\tWord: among, TF-IDF: 0.01096\n",
      "\tWord: longest, TF-IDF: 0.01096\n",
      "\tWord: snakes, TF-IDF: 0.01096\n",
      "\tWord: A, TF-IDF: 0.0\n",
      "\tWord: known, TF-IDF: 0.0\n",
      "\tWord: Python, TF-IDF: -0.00778\n",
      "\tWord: in, TF-IDF: -0.00778\n",
      "\tWord: and, TF-IDF: -0.00778\n",
      "\tWord: the, TF-IDF: -0.01555\n",
      "\tWord: is, TF-IDF: -0.01555\n",
      "Top words in document 3\n",
      "\tWord: Colt, TF-IDF: 0.01367\n",
      "\tWord: Magnum, TF-IDF: 0.01367\n",
      "\tWord: revolver, TF-IDF: 0.01367\n",
      "\tWord: 's, TF-IDF: 0.00911\n",
      "\tWord: 357, TF-IDF: 0.00456\n",
      "\tWord: caliber, TF-IDF: 0.00456\n",
      "\tWord: formerly, TF-IDF: 0.00456\n",
      "\tWord: manufactured, TF-IDF: 0.00456\n",
      "\tWord: Manufacturing, TF-IDF: 0.00456\n",
      "\tWord: Company, TF-IDF: 0.00456\n",
      "\tWord: Hartford, TF-IDF: 0.00456\n",
      "\tWord: Connecticut, TF-IDF: 0.00456\n",
      "\tWord: sometimes, TF-IDF: 0.00456\n",
      "\tWord: referred, TF-IDF: 0.00456\n",
      "\tWord: to, TF-IDF: 0.00456\n",
      "\tWord: Combat, TF-IDF: 0.00456\n",
      "\tWord: 1, TF-IDF: 0.00456\n",
      "\tWord: first, TF-IDF: 0.00456\n",
      "\tWord: introduced, TF-IDF: 0.00456\n",
      "\tWord: 1955, TF-IDF: 0.00456\n",
      "\tWord: same, TF-IDF: 0.00456\n",
      "\tWord: year, TF-IDF: 0.00456\n",
      "\tWord: Smith, TF-IDF: 0.00456\n",
      "\tWord: amp, TF-IDF: 0.00456\n",
      "\tWord: Wesson, TF-IDF: 0.00456\n",
      "\tWord: M29, TF-IDF: 0.00456\n",
      "\tWord: 44, TF-IDF: 0.00456\n",
      "\tWord: now, TF-IDF: 0.00456\n",
      "\tWord: discontinued, TF-IDF: 0.00456\n",
      "\tWord: targeted, TF-IDF: 0.00456\n"
     ]
    }
   ],
   "source": [
    "import math\n",
    "from textblob import TextBlob as tb\n",
    "\n",
    "def tf(word, blob):\n",
    "    return blob.words.count(word) / len(blob.words)\n",
    "\n",
    "def n_containing(word, bloblist):\n",
    "    return sum(1 for blob in bloblist if word in blob.words)\n",
    "\n",
    "def idf(word, bloblist):\n",
    "    return math.log(len(bloblist) / (1 + n_containing(word, bloblist)))\n",
    "\n",
    "def tfidf(word, blob, bloblist):\n",
    "    return tf(word, blob) * idf(word, bloblist)\n",
    "\n",
    "document1 = tb(\"\"\"Python is a 2000 made-for-TV horror movie directed by Richard\n",
    "Clabaugh. The film features several cult favorite actors, including William\n",
    "Zabka of The Karate Kid fame, Wil Wheaton, Casper Van Dien, Jenny McCarthy,\n",
    "Keith Coogan, Robert Englund (best known for his role as Freddy Krueger in the\n",
    "A Nightmare on Elm Street series of films), Dana Barron, David Bowe, and Sean\n",
    "Whalen. The film concerns a genetically engineered snake, a python, that\n",
    "escapes and unleashes itself on a small town. It includes the classic final\n",
    "girl scenario evident in films like Friday the 13th. It was filmed in Los Angeles,\n",
    " California and Malibu, California. Python was followed by two sequels: Python\n",
    " II (2002) and Boa vs. Python (2004), both also made-for-TV films.\"\"\")\n",
    "\n",
    "document2 = tb(\"\"\"Python, from the Greek word (πύθων/πύθωνας), is a genus of\n",
    "nonvenomous pythons[2] found in Africa and Asia. Currently, 7 species are\n",
    "recognised.[2] A member of this genus, P. reticulatus, is among the longest\n",
    "snakes known.\"\"\")\n",
    "\n",
    "document3 = tb(\"\"\"The Colt Python is a .357 Magnum caliber revolver formerly\n",
    "manufactured by Colt's Manufacturing Company of Hartford, Connecticut.\n",
    "It is sometimes referred to as a \"Combat Magnum\".[1] It was first introduced\n",
    "in 1955, the same year as Smith &amp; Wesson's M29 .44 Magnum. The now discontinued\n",
    "Colt Python targeted the premium revolver market segment. Some firearm\n",
    "collectors and writers such as Jeff Cooper, Ian V. Hogg, Chuck Hawks, Leroy\n",
    "Thompson, Renee Smeets and Martin Dougherty have described the Python as the\n",
    "finest production revolver ever made.\"\"\")\n",
    "\n",
    "bloblist = [document1, document2, document3]\n",
    "for i, blob in enumerate(bloblist):\n",
    "    print(\"Top words in document {}\".format(i + 1))\n",
    "    scores = {word: tfidf(word, blob, bloblist) for word in blob.words}\n",
    "    sorted_words = sorted(scores.items(), key=lambda x: x[1], reverse=True)\n",
    "    for word, score in sorted_words[:30]:\n",
    "        print(\"\\tWord: {}, TF-IDF: {}\".format(word, round(score, 5)))"
   ]
  },
  {
   "cell_type": "code",
   "execution_count": 1,
   "metadata": {},
   "outputs": [
    {
     "name": "stdout",
     "output_type": "stream",
     "text": [
      "10248 ['Section_NN', 'At_IN', 'The_DT', 'Museum_NNP', 'At_IN', 'the_DT', 'centenary_JJ', 'of_IN', 'her_PRP$', 'birth_NN', 'Margaret_NNP', 'Mead_NNP', 'is_VBZ', 'remembered_VBN', 'as_IN', 'the_DT', 'world_NN', \"'s_POS\", 'most_RBS', 'influential_JJ', 'anthropologist_NN', '._.', 'Margaret_NNP', 'Mead_NNP', 'arrived_VBD', 'at_IN', 'the_DT', 'American_JJ', 'Museum_NN', 'of_IN', 'Natural_JJ', 'History_NN', 'in_IN', '1926_CD', '._.', 'Having_VBG', 'just_RB', 'completed_VBN', 'her_PRP$', 'first_JJ', 'significant_JJ', 'ethnographic_JJ', 'research_NN', 'in_IN', 'Samoa_NNP', 'she_PRP', 'was_VBD', 'appointed_VBN', 'assistant_JJ', 'curator_NN', 'in_IN', 'the_DT', 'Department_NNP', 'of_IN', 'Anthropology_NNP', '._.', 'She_PRP', 'was_VBD', 'only_RB', 'twenty-five_CD', 'years_NNS', 'old_JJ', '._.', 'Mead_NN', 'was_VBD', 'given_VBN', 'a_DT', 'temporary_JJ', 'office_NN', 'in_IN', 'an_DT', 'attic_NN', 'room_NN', 'in_IN', 'the_DT', 'Museum_NNP', \"'s_POS\", 'west_NN', 'tower_NN', '._.', 'So_RB', 'well_RB', 'did_VBD', 'she_PRP', 'like_IN', 'this_DT', 'out-of-the-way_JJ', 'office_NN', 'with_IN', 'its_PRP$', 'views_NNS', 'of_IN', 'the_DT', 'rooftops_NNS', 'of_IN', 'New_NNP', 'York_NNP', 'City_NNP', 'and_CC', 'its_PRP$', 'two_CD', 'stairways_NNS', 'ideal_JJ', 'she_PRP', 'said_VBD', 'for_IN', 'creeping_VBG', 'down_RP', 'one_CD', 'stairway_NN', 'while_IN', 'someone_NN', 'to_TO', 'be_VB', 'avoided_VBN', 'such_JJ', 'as_IN', 'a_DT', 'too-solicitous_JJ', 'elderly_JJ', 'curator_NN', 'was_VBD', 'laboring_VBG', 'up_RP', 'the_DT', 'other_JJ', 'that_IN', 'she_PRP', 'stayed_VBD', 'there_EX', 'the_DT', 'rest_NN', 'of_IN', 'her_PRP$', 'life_NN', '._.', 'Arriving_VBG', 'at_IN', 'that_DT', 'same_JJ', 'office_NN', 'in_IN', '1972_CD', 'to_TO', 'be_VB', 'interviewed_VBN', 'by_IN', 'Mead_NN', 'for_IN', 'a_DT', 'position_NN', 'as_IN', 'her_PRP$', 'assistant_NN', 'I_PRP', 'was_VBD', 'an_DT', 'undergraduate_JJ', 'anthropology_NN', 'major_JJ', 'at_IN', 'Barnard_NNP', 'College_NNP', 'I_PRP', 'felt_VBD', 'as_IN', 'though_IN', 'finding_VBG', 'my_PRP$', 'way_NN', 'through_IN', 'the_DT', 'maze_NN', 'Mead_NN', \"'s_POS\", 'inner_JJ', 'sanctum_NN', 'must_MD', 'have_VB', 'been_VBN', 'a_DT', 'test_NN', 'she_PRP', \"'d_VBD\", 'devised_VBN', 'to_TO', 'determine_VB', 'my_PRP$', 'suitability_NN', '._.', 'Like_IN', 'Mead_NNP', 'I_PRP', 'soon_RB', 'grew_VBD', 'fond_JJ', 'of_IN', 'the_DT', 'office_NN', \"'s_POS\", 'remote_JJ', 'location_NN', 'and_CC', 'the_DT', 'bird_NN', \"'s_POS\", '-_:', 'eye_NN', 'view_NN', 'of_IN', 'the_DT', 'busy_JJ', 'streets_NNS', 'below_IN', '._.', 'In_IN', 'a_DT', 'way_NN', 'the_DT', 'tower_NN', \"'s_POS\", 'position_NN', 'symbolizes_VBZ', 'Mead_NNP', \"'s_POS\", 'relationship_NN', 'to_TO', 'the_DT', 'Museum_NN', 'and_CC', 'to_TO', 'anthropology_VB', 'like_IN', 'the_DT', 'tower_NN', 'which_WDT', 'is_VBZ', 'both_DT', 'part_NN', 'of_IN', 'and_CC', 'set_VBN', 'apart_RB', 'from_IN', 'the_DT', 'Museum_NNP', \"'s_POS\", 'overall_JJ', 'structure_NN', 'Mead_NN', 'was_VBD', 'part_NN', 'of_IN', 'the_DT', 'institution_NN', 'and_CC', 'the_DT', 'discipline_NN', 'of_IN', 'anthropology_NN', 'yet_RB', 'also_RB', 'apart_RB', 'from_IN', 'them_PRP', '._.', 'She_PRP', 'felt_VBD', 'strongly_RB', 'that_IN', 'both_CC', 'the_DT', 'Museum_NNP', 'and_CC', 'her_PRP$', 'discipline_NN', 'must_MD', 'not_RB', 'just_RB', 'be_VB', 'a_DT', 'repository_NN', 'of_IN', 'artifacts_NNS', 'but_CC', 'must_MD', 'engage_VB', 'in_IN', 'finding_VBG', 'solutions_NNS', 'to_TO', 'challenges_NNS', 'facing_VBG', 'society_NN', '._.', 'Over_IN', 'the_DT', 'course_NN', 'of_IN', 'her_PRP$', 'fifty-two-year_JJ', 'association_NN', 'with_IN', 'the_DT', 'Museum_NNP', 'Margaret_NNP', 'Mead_NNP', 'was_VBD', 'a_DT', 'scientist_NN', 'curator_NN', 'teacher_NN', 'author_NN', 'social_JJ', 'activist_NN', 'and_CC', 'media_NNS', 'celebrity_NN', '._.', 'The_DT', 'success_NN', 'of_IN', 'her_PRP$', 'first_JJ', 'book_NN', 'Coming_NN', 'of_IN', 'Age_NN', 'in_IN', 'Samoa_NNP', 'published_VBN', 'in_IN', '1928_CD', 'had_VBD', 'thrust_VBN', 'her_PRP$', 'into_IN', 'the_DT', 'media_NNS', 'spotlight_NN', '._.', 'The_DT', 'book_NN', \"'s_POS\", 'comparison_NN', 'of_IN', 'adolescence_NN', 'in_IN', 'the_DT', 'South_NNP', 'Seas_NNS', 'and_CC', 'time_NN', 'when_WRB', 'the_DT', 'public_NN', 'was_VBD', 'concerned_VBN', 'with_IN', 'the_DT', 'social_JJ', 'transformations_NNS', 'among_IN', 'Jazz_NN', 'Age_NN', 'youth_NN', '._.', 'In_IN', 'the_DT', 'early_JJ', '1950s_CD', 'as_IN', 'television_NN', 'became_VBD', 'widespread_JJ', 'Mead_NN', 'appeared_VBD', 'on_IN', 'the_DT', 'CBS_NNP', 'program_NN', 'Adventure_NN', 'a_DT', 'series_NN', 'produced_VBD', 'live_JJ', 'from_IN', 'the_DT', 'Museum_NN', 'to_TO', 'talk_VB', 'about_IN', 'trance_NN', 'among_IN', 'the_DT', 'Balinese_NN', 'and_CC', 'the_DT', 'impact_NN', 'of_IN', 'World_NNP', 'War_NNP', 'II_NNP', 'on_IN', 'social_JJ', 'change_NN', 'in_IN', 'remote_JJ', 'societies_NNS', 'of_IN', 'New_NNP', 'Guinea_NNP', '._.', 'Mead_NNP', \"'s_POS\", 'flair_NN', 'for_IN', 'writing_VBG', 'and_CC', 'public_JJ', 'speaking_NN', 'combined_VBN', 'with_IN', 'her_PRP$', 'belief_NN', 'that_IN', 'anthropologists_NNS', 'and_CC', 'museums_NNS', 'should_MD', 'address_VB', 'contemporary_JJ', 'social_JJ', 'issues_NNS', 'led_VBD', 'to_TO', 'her_PRP$', 'participation-as_NNS', 'an_DT', 'expert_NN', 'in_IN', 'human_JJ', 'behavior-in_NN', 'United_NNP', 'Nations_NNP', 'conferences_NNS', 'and_CC', 'other_JJ', 'international_JJ', 'forums_NNS', 'and_CC', 'to_TO', 'her_PRP$', 'acting_NN', 'as_IN', 'a_DT', 'consultant_NN', 'to_TO', 'institutions_NNS', 'and_CC', 'organizations_NNS', 'worldwide_RB', '._.', 'She_PRP', 'discussed_VBD', 'the_DT', 'role_NN', 'of_IN', 'the_DT', 'scientist_NN', 'in_IN', 'society_NN', 'the_DT', 'changing_VBG', 'nature_NN', 'of_IN', 'the_DT', 'family_NN', 'racial_JJ', 'inequality_NN', 'peaceful_JJ', 'alternatives_NNS', 'to_TO', 'war_NN', 'population_NN', 'growth_NN', 'environmental_JJ', 'degradation_NN', 'and_CC', 'the_DT', 'creation_NN', 'of_IN', 'humane_JJ', 'human_JJ', 'settlements_NNS', '._.', 'Her_PRP$', 'wide-ranging_JJ', 'concern_NN', 'for_IN', 'humanity_NN', 'led_VBD', 'Time_NNP', 'in_IN', '1969_CD', 'to_TO', 'declare_VB', 'Mead_NNP', 'mother_NN', 'to_TO', 'the_DT', 'world_NN', '._.', 'It_PRP', 'is_VBZ', 'thus_RB', 'not_RB', 'surprising_JJ', 'that_IN', 'when_WRB', 'the_DT', 'Museum_NNP', 'celebrated_VBD', 'its_PRP$', '125th_NN', 'its_PRP$', 'treasures_NNS', 'Margaret_NNP', 'Mead_NNP', 'herself_PRP', 'is_VBZ', 'listed_VBN', 'as_IN', 'treasure_NN', 'no._NN', '38_CD', 'right_NN', 'between_IN', 'the_DT', 'Folsom_NNP', 'Point_NNP', 'treasure_NN', 'no._NN', '37_CD', 'and_CC', 'the_DT', 'Peregrine_NNP', 'Falcon_NNP', 'Diorama_NNP', 'treasure_NN', 'no._NN', '39_CD', '._.', 'The_DT', 'guidebook_NN', 'states_VBZ', 'that_IN', 'Mead_NNP', 'brought_VBD', 'the_DT', 'serious_JJ', 'work_NN', 'of_IN', 'anthropology_NN', 'into_IN', 'the_DT', 'public_JJ', 'consciousness_NN', 'through_IN', 'her_PRP$', 'books_NNS', 'the_DT', 'courses_NNS', 'she_PRP', 'taught_VBD', 'at_IN', 'Columbia_NNP', 'University_NNP', 'the_DT', 'articles_NNS', 'she_PRP', 'wrote_VBD', 'in_IN', 'a_DT', 'monthly_JJ', 'column_NN', 'for_IN', 'Redbook_NNP', 'and_CC', 'the_DT', 'frequent_JJ', 'interviews_NNS', 'with_IN', 'her_PRP$', 'that_WDT', 'were_VBD', 'published_VBN', 'in_IN', 'magazines_NNS', 'and_CC', 'newspapers_NNS', 'and_CC', 'broadcast_NN', 'on_IN', 'radio_NN', 'and_CC', 'television_NN', '._.', 'When_WRB', 'I_PRP', 'visited_VBD', 'the_DT', 'Museum_NNP', 'last_JJ', 'spring_NN', 'the_DT', 'newly_RB', 'renovated_VBN', 'Hall_NN', 'of_IN', 'the_DT', 'Peoples_NNPS', 'of_IN', 'the_DT', 'Pacific-which_NN', 'had_VBD', 'opened_VBN', 'in_IN', '1971_CD', 'decades_NNS', 'after_IN', 'Mead_NN', 'began_VBD', 'planning_VBG', 'it-had_NN', 'recently_RB', 'reopened_VBD', '._.', 'I_PRP', 'was_VBD', 'pleased_VBN', 'to_TO', 'see_VB', 'that_IN', 'the_DT', 'hall_NN', 'now_RB', 'incorporates_VBZ', 'Mead_NN', 'in_IN', 'the_DT', 'exhibition_NN', '._.', 'Continuous_JJ', 'videotapes_NNS', 'show_VBP', 'interviews_NNS', 'with_IN', 'her_PRP$', 'and_CC', 'about_IN', 'her_PRP$', '._.', 'Photographs_NNS', 'of_IN', 'Mead_NNP', 'and_CC', 'the_DT', 'people_NNS', 'she_PRP', 'studied_VBD', 'quotes_NNS', 'from_IN', 'her_PRP$', 'notes_NNS', 'and_CC', 'lectures_VBZ', 'and_CC', 'artifacts_NNS', 'she_PRP', 'collected_VBD', 'give_VB', 'the_DT', 'viewer_NN', 'insights_NNS', 'into_IN', 'the_DT', 'process_NN', 'of_IN', 'doing_VBG', 'fieldwork_NN', 'and_CC', 'add_VB', 'a_DT', 'social_JJ', 'and_CC', 'historical_JJ', 'context_NN', 'to_TO', 'her_PRP$', 'also_RB', 'presented-the_JJ', 'Presidential_JJ', 'Medal_NN', 'of_IN', 'Freedom_NNP', 'that_IN', 'she_PRP', 'received_VBD', 'posthumously_RB', 'from_IN', 'President_NNP', 'Jimmy_NNP', 'Carter_NNP', 'as_RB', 'well_RB', 'as_IN', 'her_PRP$', 'signature_NN', 'red_JJ', 'cape_NN', 'and_CC', 'stick_NN', '._.', 'The_DT', 'label_NN', 'reads_VBZ', 'In_IN', 'her_PRP$', 'later_JJ', 'years_NNS', 'Margaret_NNP', 'Mead_NNP', 'regularly_RB', 'wore_VBD', 'a_DT', 'cape_NN', 'and_CC', 'used_VBD', 'a_DT', 'style_NN', 'of_IN', 'walking_VBG', 'stick_NN', 'often_RB', 'called_VBD', 'a_DT', 'thumbstick_NN', '._.', 'Those_DT', 'two_CD', 'items_NNS', 'became_VBD', 'a_DT', 'familiar_JJ', 'sight_NN', 'as_IN', 'Dr._NNP', 'Mead_NNP', 'traveled_VBD', 'about_IN', 'for_IN', 'her_PRP$', 'numerous_JJ', 'lectures_VBZ', 'and_CC', 'conferences_NNS', '._.', 'Margaret_NNP', 'Mead_NNP', 'used_VBD', 'to_TO', 'joke_VB', 'that_IN', 'when_WRB', 'she_PRP', 'did_VBD', \"n't_RB\", 'want_VB', 'to_TO', 'be_VB', 'recognized_VBN', 'all_DT', 'she_PRP', 'had_VBD', 'to_TO', 'do_VB', 'was_VBD', 'leave_VB', 'her_PRP$', 'cape_NN', 'and_CC', 'thumbstick_NN', 'at_IN', 'home_NN', '._.', 'How_WRB', 'fitting_JJ', 'that_IN', 'she_PRP', 'has_VBZ', 'become_VBN', 'both_CC', 'a_DT', 'Museum_NNP', 'treasure_NN', 'and_CC', 'an_DT', 'artifact_NN', '._.', 'DECEMBER_NN', '3_CD', 'Lecture_NN', 'Our_PRP$', 'Cosmic_JJ', 'Habitat_NN', 'Distinguished_VBN', 'Authors_NNS', 'in_IN', 'Astronomy_NNP', 'series_NN', '._.', 'Astronomer_NN', 'Royal_NNP', 'Martin_NNP', 'Rees_NNP', 'Royal_NNP', 'Society_NNP', 'research_NN', 'professor_NN', 'University_NNP', 'of_IN', 'Cambridge_NNP', '._.', '730_CD', 'P.M._NNP', 'Space_NNP', 'Theater_NNP', 'Hayden_NNP', 'Planetarium_NNP', '._.', 'DECEMBER_NN', '4_CD', '6_CD', '7_CD', '8_CD', 'AND_CC', '11_CD', 'Panel_NN', 'discussion_NN', 'Using_VBG', 'the_DT', 'Genome_NNP', 'to_TO', 'Understand_NNP', 'Human_NNP', 'Ancestry_NNP', '._.', 'Moderated_VBN', 'by_IN', 'Nicholas_NNP', 'Wade_NNP', 'New_NNP', 'York_NNP', 'Times_NNP', 'biologist_NN', 'Andrew_NNP', 'Clark_NNP', 'Pennsylvania_NNP', 'State_NNP', 'University_NNP', ';_:', 'Douglas_NNP', 'Wallace_NNP', 'Center_NNP', 'for_IN', 'Molecular_JJ', 'Medicine_NN', 'Emory_NNP', 'University_NNP', ';_:', 'and_CC', 'evolutionary_JJ', 'biologist_NN', 'Joseph_NNP', 'Graves_NNP', 'Jr._NNP', '._.', 'Arizona_NNP', 'State_NNP', 'University_NNP', 'West_NNP', '._.', 'December_NNP', '4_CD', '700_CD', 'P.M._NNP', 'Kaufmann_NNP', 'Theater_NNP', '._.', 'Presented_VBN', 'in_IN', 'conjunction_NN', 'with_IN', 'the_DT', 'exhibition_NN', 'The_DT', 'Genomic_JJ', 'Revolution_NN', 'on_IN', 'view_NN', 'through_IN', 'January_NNP', '1_CD', '2002_CD', 'in_IN', 'Gallery_NNP', '3_CD', '._.', 'Workshops_NNS', 'on_IN', 'genetics_NNS', 'December_NNP', '6_CD', 'and_CC', '7_CD', '900-1100_CD', 'A.M._NNP', 'and_CC', '700-900_CD', 'P.M._NN', 'and_CC', 'December_NNP', '8_CD', '900-1100_CD', 'A.M._NN', ';_:', 'follow-up_NN', 'explanation_NN', 'session_NN', 'December_NNP', '11_CD', '700_CD', 'P.M._NNP', 'DECEMBER_NNP', '8_CD', 'Roundtable_JJ', 'presentation_NN', 'Border_NNP', 'Crossing_NNP', 'Cultural_NNP', 'Appropriation_NNP', 'and_CC', 'Artistic_NNP', 'Freedom_NNP', 'in_IN', 'Arts_NNP', 'Media_NNP', 'and_CC', 'Literature_NNP', 'of_IN', 'Indigenous_NNP', 'and_CC', 'Latina_NNP', 'Women_NNP', 'Identities_NNPS', 'Beyond_NNP', 'Borders_NNPS', 'series_NN', '._.', 'Moderated_VBN', 'by_IN', 'writer_NN', 'Helena_NNP', 'Maria_NNP', 'Viramontes_NNP', 'Cornell_NNP', 'University_NNP', 'with_IN', 'artist_NN', 'participants_NNS', 'Nadema_NNP', 'Agard_NNP', 'Maria_NNP', 'Dominguez_NNP', 'and_CC', 'Carol_NNP', 'Kalafatic_NNP', '._.', '100-300_CD', 'P.M._NN', 'kinder_JJR', 'Theater_NNP', '._.', 'Gallery_NNP', 'visit_NN', 'to_TO', 'Who_WP', 'Is_VBZ', 'the_DT', 'Virgin_NN', 'of_IN', 'Guadalupe_NNP', '?_.', 'Women_NNS', 'Artists_NNS', 'Crossing_VBG', 'Borders_NNS', 'Henry_NNP', 'Street_NNP', 'Settlement_NNP', 'Abrons_NNP', 'Art_NNP', 'Center_NNP', '400-600_CD', 'P.M._NNP', 'Shuttle_NNP', 'from_IN', 'AMNH_NNP', 'at_IN', '315_CD', 'P.M._NN', 'or_CC', 'see_VB', 'www.amnh.org/programs_NNS', '._.', 'DECEMBER_NN', '17_CD', 'Lecture_NN', 'The_DT', 'Hubble_NNP', 'Time_NNP', 'Machine_NNP', 'Frontiers_NNP', 'in_IN', 'Astrophysics_NNP', 'series_NN', '._.', 'Astronomer_NN', 'James_NNP', 'Lowenthal_NNP', 'University_NNP', 'of_IN', 'Massachusetts_NNP', 'Amherst_NNP', '._.', '730_CD', 'P.M._NNP', 'Space_NNP', 'Theater_NNP', 'Hayden_NNP', 'Planetarium_NNP', '._.', 'DECEMBER_NNP', '18_CD', 'AND_CC', 'JANUARY_NN', '29_CD', 'Lectures_NNS', 'on_IN', 'upcoming_VBG', 'sky_NN', 'events_NNS', 'Celestial_JJ', 'Highlights_NNS', '._.', 'Hayden_JJ', 'lecturer_NN', 'and_CC', 'amateur_JJ', 'astronomer_NN', 'Hank_NNP', 'Bartol_NNP', '._.', '630_CD', 'P.M._NNP', 'Space_NNP', 'Theater_NNP', 'Hayden_NNP', 'Planetarium_NNP', '._.', 'DECEMBER_NNP', '29_CD', 'Kwanzaa_NNP', 'celebration_NN', 'Performances_NNPS', 'workshops_NNS', 'and_CC', 'marketplace_NN', 'for_IN', 'this_DT', 'African_JJ', 'American_JJ', 'holiday_NN', '._.', '1200-600_CD', 'P.M._NNP', 'Hall_NNP', 'of_IN', 'Ocean_NNP', 'Life_NNP', '._.', 'For_IN', 'a_DT', 'schedule_NN', 'of_IN', 'events_NNS', 'call_VBP', '212\\xa0769-5315_CD', 'or_CC', 'visit_VB', 'www.anmh.org/programs_NNS', '._.', 'JANUARY_NN', '7_CD', 'Lecture_NN', 'The_DT', 'Riddle_NN', 'of_IN', 'the_DT', 'Compass_NNP', 'Distinguished_NNP', 'Authors_NNPS', 'in_IN', 'Astronomy_NNP', 'series_NN', '._.', 'Author_NN', 'and_CC', 'mathematician_NN', 'Amir_NNP', 'D._NNP', 'Aczel_NNP', '._.', '730_CD', 'P.M._NNP', 'Space_NNP', 'Theater_NNP', 'Hayden_NNP', 'Planetarium_NNP', '._.', 'JANUARY_NNP', '12-13_CD', 'AND_CC', '26-27_CD', 'Weekend_NNP', 'programs_NNS', 'America_NNP', 'As_IN', 'Home_NNP', '._.', 'Arab_NNP', 'American_NNP', 'and_CC', 'South_JJ', 'Asian_JJ', 'community-based_JJ', 'organizations_NNS', 'present_JJ', 'films_NNS', 'artist_NN', 'talks_NNS', 'panel_NN', 'discussions_NNS', 'and_CC', 'readings_NNS', 'and_CC', 'performances_NNS', '._.', 'Leonhardt_NNP', 'People_NNP', 'Center_NNP', '._.', 'JANUARY_NNP', '15_CD', 'the_DT', 'Frederick_NNP', 'P._NNP', 'Rose_NNP', 'Director_NNP', 'of_IN', 'the_DT', 'Hayden_NNP', 'Planetarium_NNP', 'and_CC', 'Charles_NNP', 'Liu_NNP', 'AMNH_NNP', 'Department_NNP', 'of_IN', 'Astrophysics_NNPS', '._.', '700_CD', 'P.M._NNP', 'Kaufmann_NNP', 'Theater_NNP', '._.', 'JANUARY_NNP', '19_CD', 'Lecture/demonstration_NNP', 'Through_IN', 'Time_NNP', 'and_CC', 'Space_NNP', 'Following_VBG', 'the_DT', 'Beat_NN', 'series_NN', '._.', 'Based_VBN', 'on_IN', 'instruments_NNS', 'in_IN', 'AMNH_NNP', \"'s_POS\", 'Hall_NN', 'of_IN', 'African_JJ', 'Peoples_NNPS', '._.', 'Percussionists_NNS', 'Neil_NNP', 'and_CC', 'Ayanda_NNP', 'Clarke_NNP', '._.', '100-330_CD', 'P.M._NNP', 'Leonhardt_NNP', 'People_NNP', 'Center_NNP', '._.', 'JANUARY_NNP', '24_CD', 'Lecture_NNP', 'Aquagenesis_NNP', 'The_NNP', 'Origin_NNP', 'and_CC', 'Evolution_NN', 'of_IN', 'Life_NNP', 'in_IN', 'the_DT', 'Sea_NN', '._.', 'Marine_NNP', 'biologist_NN', 'and_CC', 'artist_NN', 'Richard_NNP', 'Ellis_NNP', 'AMNH_NNP', 'Division_NNP', 'of_IN', 'Paleontology_NNP', '._.', '700_CD', 'P.M._NNP', 'Kaufmann_NNP', 'Theater_NNP', '._.', 'DURING_IN', 'DECEMBER/JANUARY_NN', 'The_DT', 'Museum_NNP', \"'s_POS\", 'Origami_NNP', 'Holiday_NNP', 'Tree_NNP', 'decorated_VBN', 'with_IN', '1500_CD', 'folded-paper_JJ', 'animals_NNS', 'is_VBZ', 'on_IN', 'display_NN', 'in_IN', 'the_DT', 'Theodore_NNP', 'Roosevelt_NNP', 'Memorial_NNP', 'Hall_NNP', '._.', 'Teachers_NNPS', 'resource_NN', 'Musings_NNS', 'a_DT', 'Web_NN', 'newsletter_NN', 'for_IN', 'science_NN', 'educators_NNS', 'at_IN', '26_CD', ';_:', '601_CD', ';_:', 'TOOLONG_NNP', '._.', 'University_NNP', 'Without_IN', 'Walls_NNP', 'Telephone_NNP', 'courses_NNS', 'on_IN', 'natural_JJ', 'sciences_NNS', 'and_CC', 'anthropology_NN', '._.', 'The_DT', 'Museum_NNP', \"'s_POS\", 'Department_NNP', 'of_IN', 'Education_NNP', 'and_CC', 'DOROT_NNP', 'a_DT', 'nonprofit_JJ', 'serving_VBG', 'the_DT', 'elderly_JJ', '._.', 'For_IN', 'information_NN', 'call_NN', 'DOROT_NN', 'at_IN', '212\\xa0769-2850_CD', 'or_CC', 'toll-free_JJ', '877\\xa0819-9147_CD', '._.', 'and_CC', 'adults_NNS', 'both_CC', 'inside_IN', 'and_CC', 'outside_IN', 'the_DT', 'Museum_NNP', '._.', 'Call_VB', '212\\xa0769-5200_CD', 'for_IN', 'information_NN', '._.', 'Planetarium_NNP', 'courses_NNS', 'beginning_VBG', 'in_IN', 'January_NNP', 'How_WRB', 'to_TO', 'Choose_VB', 'a_DT', 'Telescope_NNP', 'Stars_NNP', 'Constellations_NNPS', 'and_CC', 'Legends_NNPS', 'and_CC', 'many_JJ', 'others_NNS', '._.', 'For_IN', 'complete_JJ', 'course_NN', 'descriptions_NNS', 'visit_VBP', 'www.amnh.org/hayden/_NN', '._.', 'For_IN', 'news_NN', 'from_IN', 'the_DT', 'Center_NNP', 'for_IN', 'Biodiversity_NNP', 'and_CC', 'Conservation_NNP', 'go_VBP', 'to_TO', '63_CD', ';_:', '629_CD', ';_:', 'TOOLONG_NNP', '._.', 'The_DT', 'American_JJ', 'Museum_NN', 'of_IN', 'Natural_JJ', 'History_NN', 'is_VBZ', 'located_JJ', 'at_IN', 'Central_NNP', 'Park_NNP', 'West_NNP', 'and_CC', '79th_NNP', 'Street_NNP', 'in_IN', 'New_NNP', 'York_NNP', 'City_NNP', '._.', 'For_IN', 'listings_NNS', 'of_IN', 'exhibitions_NNS', 'public_JJ', 'programs_NNS', 'and_CC', 'hours_NNS', 'call_VBP', '212\\xa0769-5100_CD', 'or_CC', 'visit_VB', 'the_DT', 'Museum_NNP', \"'s_POS\", 'Web_NN', 'site_NN', 'at_IN', 'www.amnh.org_NN', '._.', 'Space_NN', 'Show_NN', 'tickets_NNS', 'retail_JJ', 'products_NNS', 'and_CC', 'Museum_NNP', 'memberships_NNS', 'are_VBP', 'also_RB', 'available_JJ', 'online_NN', '._.', 'By_IN', 'Nancy_NNP', 'C._NNP', 'Lutkehaus_NNP', 'Nancy_NNP', 'C._NNP', 'Lutkehaus_NNP', 'is_VBZ', 'chair_NN', 'of_IN', 'the_DT', 'gender_NN', 'studies_NNS', 'program_NN', 'and_CC', 'an_DT', 'associate_JJ', 'professor_NN', 'in_IN', 'the_DT', 'Department_NNP', 'of_IN', 'Anthropology_NNP', 'at_IN', 'the_DT', 'University_NNP', 'of_IN', 'Southern_NNP', 'California_NNP', '._.', 'She_PRP', 'is_VBZ', 'the_DT', 'author_NN', 'of_IN', 'the_DT', 'forthcoming_JJ', 'Margaret_NNP', 'Mead_NNP', 'and_CC', 'the_DT', 'Media_NNP', 'Anthropology_NNP', 'and_CC', 'the_DT', 'Creation_NN', 'of_IN', 'an_DT', 'American_JJ', 'Icon_NN', '._.']\n"
     ]
    }
   ],
   "source": [
    "import pickle\n",
    "all_docs = pickle.load(open(r\"C:\\nlp\\texts_parsed(list_of_list).pkl\", 'rb'))\n",
    "print(len(all_docs), all_docs[0])"
   ]
  },
  {
   "cell_type": "code",
   "execution_count": null,
   "metadata": {
    "collapsed": true
   },
   "outputs": [],
   "source": []
  },
  {
   "cell_type": "code",
   "execution_count": 8,
   "metadata": {},
   "outputs": [
    {
     "name": "stdout",
     "output_type": "stream",
     "text": [
      "Top words in document 1\n"
     ]
    },
    {
     "ename": "KeyboardInterrupt",
     "evalue": "",
     "output_type": "error",
     "traceback": [
      "\u001b[1;31m---------------------------------------------------------------------------\u001b[0m",
      "\u001b[1;31mKeyboardInterrupt\u001b[0m                         Traceback (most recent call last)",
      "\u001b[1;32m<ipython-input-8-636490f203b5>\u001b[0m in \u001b[0;36m<module>\u001b[1;34m()\u001b[0m\n\u001b[0;32m     20\u001b[0m \u001b[1;32mfor\u001b[0m \u001b[0mi\u001b[0m\u001b[1;33m,\u001b[0m \u001b[0mblob\u001b[0m \u001b[1;32min\u001b[0m \u001b[0menumerate\u001b[0m\u001b[1;33m(\u001b[0m\u001b[0mbloblist\u001b[0m\u001b[1;33m)\u001b[0m\u001b[1;33m:\u001b[0m\u001b[1;33m\u001b[0m\u001b[0m\n\u001b[0;32m     21\u001b[0m     \u001b[0mprint\u001b[0m\u001b[1;33m(\u001b[0m\u001b[1;34m\"Top words in document {}\"\u001b[0m\u001b[1;33m.\u001b[0m\u001b[0mformat\u001b[0m\u001b[1;33m(\u001b[0m\u001b[0mi\u001b[0m \u001b[1;33m+\u001b[0m \u001b[1;36m1\u001b[0m\u001b[1;33m)\u001b[0m\u001b[1;33m)\u001b[0m\u001b[1;33m\u001b[0m\u001b[0m\n\u001b[1;32m---> 22\u001b[1;33m     \u001b[0mscores\u001b[0m \u001b[1;33m=\u001b[0m \u001b[1;33m{\u001b[0m\u001b[0mword\u001b[0m\u001b[1;33m:\u001b[0m \u001b[0mtfidf\u001b[0m\u001b[1;33m(\u001b[0m\u001b[0mword\u001b[0m\u001b[1;33m,\u001b[0m \u001b[0mblob\u001b[0m\u001b[1;33m,\u001b[0m \u001b[0mbloblist\u001b[0m\u001b[1;33m)\u001b[0m \u001b[1;32mfor\u001b[0m \u001b[0mword\u001b[0m \u001b[1;32min\u001b[0m \u001b[0mblob\u001b[0m\u001b[1;33m.\u001b[0m\u001b[0mwords\u001b[0m\u001b[1;33m}\u001b[0m\u001b[1;33m\u001b[0m\u001b[0m\n\u001b[0m\u001b[0;32m     23\u001b[0m     \u001b[0msorted_words\u001b[0m \u001b[1;33m=\u001b[0m \u001b[0msorted\u001b[0m\u001b[1;33m(\u001b[0m\u001b[0mscores\u001b[0m\u001b[1;33m.\u001b[0m\u001b[0mitems\u001b[0m\u001b[1;33m(\u001b[0m\u001b[1;33m)\u001b[0m\u001b[1;33m,\u001b[0m \u001b[0mkey\u001b[0m\u001b[1;33m=\u001b[0m\u001b[1;32mlambda\u001b[0m \u001b[0mx\u001b[0m\u001b[1;33m:\u001b[0m \u001b[0mx\u001b[0m\u001b[1;33m[\u001b[0m\u001b[1;36m1\u001b[0m\u001b[1;33m]\u001b[0m\u001b[1;33m,\u001b[0m \u001b[0mreverse\u001b[0m\u001b[1;33m=\u001b[0m\u001b[1;32mTrue\u001b[0m\u001b[1;33m)\u001b[0m\u001b[1;33m\u001b[0m\u001b[0m\n\u001b[0;32m     24\u001b[0m     \u001b[1;32mfor\u001b[0m \u001b[0mword\u001b[0m\u001b[1;33m,\u001b[0m \u001b[0mscore\u001b[0m \u001b[1;32min\u001b[0m \u001b[0msorted_words\u001b[0m\u001b[1;33m[\u001b[0m\u001b[1;33m:\u001b[0m\u001b[1;36m30\u001b[0m\u001b[1;33m]\u001b[0m\u001b[1;33m:\u001b[0m\u001b[1;33m\u001b[0m\u001b[0m\n",
      "\u001b[1;32m<ipython-input-8-636490f203b5>\u001b[0m in \u001b[0;36m<dictcomp>\u001b[1;34m(.0)\u001b[0m\n\u001b[0;32m     20\u001b[0m \u001b[1;32mfor\u001b[0m \u001b[0mi\u001b[0m\u001b[1;33m,\u001b[0m \u001b[0mblob\u001b[0m \u001b[1;32min\u001b[0m \u001b[0menumerate\u001b[0m\u001b[1;33m(\u001b[0m\u001b[0mbloblist\u001b[0m\u001b[1;33m)\u001b[0m\u001b[1;33m:\u001b[0m\u001b[1;33m\u001b[0m\u001b[0m\n\u001b[0;32m     21\u001b[0m     \u001b[0mprint\u001b[0m\u001b[1;33m(\u001b[0m\u001b[1;34m\"Top words in document {}\"\u001b[0m\u001b[1;33m.\u001b[0m\u001b[0mformat\u001b[0m\u001b[1;33m(\u001b[0m\u001b[0mi\u001b[0m \u001b[1;33m+\u001b[0m \u001b[1;36m1\u001b[0m\u001b[1;33m)\u001b[0m\u001b[1;33m)\u001b[0m\u001b[1;33m\u001b[0m\u001b[0m\n\u001b[1;32m---> 22\u001b[1;33m     \u001b[0mscores\u001b[0m \u001b[1;33m=\u001b[0m \u001b[1;33m{\u001b[0m\u001b[0mword\u001b[0m\u001b[1;33m:\u001b[0m \u001b[0mtfidf\u001b[0m\u001b[1;33m(\u001b[0m\u001b[0mword\u001b[0m\u001b[1;33m,\u001b[0m \u001b[0mblob\u001b[0m\u001b[1;33m,\u001b[0m \u001b[0mbloblist\u001b[0m\u001b[1;33m)\u001b[0m \u001b[1;32mfor\u001b[0m \u001b[0mword\u001b[0m \u001b[1;32min\u001b[0m \u001b[0mblob\u001b[0m\u001b[1;33m.\u001b[0m\u001b[0mwords\u001b[0m\u001b[1;33m}\u001b[0m\u001b[1;33m\u001b[0m\u001b[0m\n\u001b[0m\u001b[0;32m     23\u001b[0m     \u001b[0msorted_words\u001b[0m \u001b[1;33m=\u001b[0m \u001b[0msorted\u001b[0m\u001b[1;33m(\u001b[0m\u001b[0mscores\u001b[0m\u001b[1;33m.\u001b[0m\u001b[0mitems\u001b[0m\u001b[1;33m(\u001b[0m\u001b[1;33m)\u001b[0m\u001b[1;33m,\u001b[0m \u001b[0mkey\u001b[0m\u001b[1;33m=\u001b[0m\u001b[1;32mlambda\u001b[0m \u001b[0mx\u001b[0m\u001b[1;33m:\u001b[0m \u001b[0mx\u001b[0m\u001b[1;33m[\u001b[0m\u001b[1;36m1\u001b[0m\u001b[1;33m]\u001b[0m\u001b[1;33m,\u001b[0m \u001b[0mreverse\u001b[0m\u001b[1;33m=\u001b[0m\u001b[1;32mTrue\u001b[0m\u001b[1;33m)\u001b[0m\u001b[1;33m\u001b[0m\u001b[0m\n\u001b[0;32m     24\u001b[0m     \u001b[1;32mfor\u001b[0m \u001b[0mword\u001b[0m\u001b[1;33m,\u001b[0m \u001b[0mscore\u001b[0m \u001b[1;32min\u001b[0m \u001b[0msorted_words\u001b[0m\u001b[1;33m[\u001b[0m\u001b[1;33m:\u001b[0m\u001b[1;36m30\u001b[0m\u001b[1;33m]\u001b[0m\u001b[1;33m:\u001b[0m\u001b[1;33m\u001b[0m\u001b[0m\n",
      "\u001b[1;32m<ipython-input-8-636490f203b5>\u001b[0m in \u001b[0;36mtfidf\u001b[1;34m(word, blob, bloblist)\u001b[0m\n\u001b[0;32m     12\u001b[0m \u001b[1;33m\u001b[0m\u001b[0m\n\u001b[0;32m     13\u001b[0m \u001b[1;32mdef\u001b[0m \u001b[0mtfidf\u001b[0m\u001b[1;33m(\u001b[0m\u001b[0mword\u001b[0m\u001b[1;33m,\u001b[0m \u001b[0mblob\u001b[0m\u001b[1;33m,\u001b[0m \u001b[0mbloblist\u001b[0m\u001b[1;33m)\u001b[0m\u001b[1;33m:\u001b[0m\u001b[1;33m\u001b[0m\u001b[0m\n\u001b[1;32m---> 14\u001b[1;33m     \u001b[1;32mreturn\u001b[0m \u001b[0mtf\u001b[0m\u001b[1;33m(\u001b[0m\u001b[0mword\u001b[0m\u001b[1;33m,\u001b[0m \u001b[0mblob\u001b[0m\u001b[1;33m)\u001b[0m \u001b[1;33m*\u001b[0m \u001b[0midf\u001b[0m\u001b[1;33m(\u001b[0m\u001b[0mword\u001b[0m\u001b[1;33m,\u001b[0m \u001b[0mbloblist\u001b[0m\u001b[1;33m)\u001b[0m\u001b[1;33m\u001b[0m\u001b[0m\n\u001b[0m\u001b[0;32m     15\u001b[0m \u001b[1;33m\u001b[0m\u001b[0m\n\u001b[0;32m     16\u001b[0m \u001b[1;32mimport\u001b[0m \u001b[0mpickle\u001b[0m\u001b[1;33m\u001b[0m\u001b[0m\n",
      "\u001b[1;32m<ipython-input-8-636490f203b5>\u001b[0m in \u001b[0;36midf\u001b[1;34m(word, bloblist)\u001b[0m\n\u001b[0;32m      9\u001b[0m \u001b[1;33m\u001b[0m\u001b[0m\n\u001b[0;32m     10\u001b[0m \u001b[1;32mdef\u001b[0m \u001b[0midf\u001b[0m\u001b[1;33m(\u001b[0m\u001b[0mword\u001b[0m\u001b[1;33m,\u001b[0m \u001b[0mbloblist\u001b[0m\u001b[1;33m)\u001b[0m\u001b[1;33m:\u001b[0m\u001b[1;33m\u001b[0m\u001b[0m\n\u001b[1;32m---> 11\u001b[1;33m     \u001b[1;32mreturn\u001b[0m \u001b[0mmath\u001b[0m\u001b[1;33m.\u001b[0m\u001b[0mlog\u001b[0m\u001b[1;33m(\u001b[0m\u001b[0mlen\u001b[0m\u001b[1;33m(\u001b[0m\u001b[0mbloblist\u001b[0m\u001b[1;33m)\u001b[0m \u001b[1;33m/\u001b[0m \u001b[1;33m(\u001b[0m\u001b[1;36m1\u001b[0m \u001b[1;33m+\u001b[0m \u001b[0mn_containing\u001b[0m\u001b[1;33m(\u001b[0m\u001b[0mword\u001b[0m\u001b[1;33m,\u001b[0m \u001b[0mbloblist\u001b[0m\u001b[1;33m)\u001b[0m\u001b[1;33m)\u001b[0m\u001b[1;33m)\u001b[0m\u001b[1;33m\u001b[0m\u001b[0m\n\u001b[0m\u001b[0;32m     12\u001b[0m \u001b[1;33m\u001b[0m\u001b[0m\n\u001b[0;32m     13\u001b[0m \u001b[1;32mdef\u001b[0m \u001b[0mtfidf\u001b[0m\u001b[1;33m(\u001b[0m\u001b[0mword\u001b[0m\u001b[1;33m,\u001b[0m \u001b[0mblob\u001b[0m\u001b[1;33m,\u001b[0m \u001b[0mbloblist\u001b[0m\u001b[1;33m)\u001b[0m\u001b[1;33m:\u001b[0m\u001b[1;33m\u001b[0m\u001b[0m\n",
      "\u001b[1;32m<ipython-input-8-636490f203b5>\u001b[0m in \u001b[0;36mn_containing\u001b[1;34m(word, bloblist)\u001b[0m\n\u001b[0;32m      6\u001b[0m \u001b[1;33m\u001b[0m\u001b[0m\n\u001b[0;32m      7\u001b[0m \u001b[1;32mdef\u001b[0m \u001b[0mn_containing\u001b[0m\u001b[1;33m(\u001b[0m\u001b[0mword\u001b[0m\u001b[1;33m,\u001b[0m \u001b[0mbloblist\u001b[0m\u001b[1;33m)\u001b[0m\u001b[1;33m:\u001b[0m\u001b[1;33m\u001b[0m\u001b[0m\n\u001b[1;32m----> 8\u001b[1;33m     \u001b[1;32mreturn\u001b[0m \u001b[0msum\u001b[0m\u001b[1;33m(\u001b[0m\u001b[1;36m1\u001b[0m \u001b[1;32mfor\u001b[0m \u001b[0mblob\u001b[0m \u001b[1;32min\u001b[0m \u001b[0mbloblist\u001b[0m \u001b[1;32mif\u001b[0m \u001b[0mword\u001b[0m \u001b[1;32min\u001b[0m \u001b[0mblob\u001b[0m\u001b[1;33m.\u001b[0m\u001b[0mwords\u001b[0m\u001b[1;33m)\u001b[0m\u001b[1;33m\u001b[0m\u001b[0m\n\u001b[0m\u001b[0;32m      9\u001b[0m \u001b[1;33m\u001b[0m\u001b[0m\n\u001b[0;32m     10\u001b[0m \u001b[1;32mdef\u001b[0m \u001b[0midf\u001b[0m\u001b[1;33m(\u001b[0m\u001b[0mword\u001b[0m\u001b[1;33m,\u001b[0m \u001b[0mbloblist\u001b[0m\u001b[1;33m)\u001b[0m\u001b[1;33m:\u001b[0m\u001b[1;33m\u001b[0m\u001b[0m\n",
      "\u001b[1;32m<ipython-input-8-636490f203b5>\u001b[0m in \u001b[0;36m<genexpr>\u001b[1;34m(.0)\u001b[0m\n\u001b[0;32m      6\u001b[0m \u001b[1;33m\u001b[0m\u001b[0m\n\u001b[0;32m      7\u001b[0m \u001b[1;32mdef\u001b[0m \u001b[0mn_containing\u001b[0m\u001b[1;33m(\u001b[0m\u001b[0mword\u001b[0m\u001b[1;33m,\u001b[0m \u001b[0mbloblist\u001b[0m\u001b[1;33m)\u001b[0m\u001b[1;33m:\u001b[0m\u001b[1;33m\u001b[0m\u001b[0m\n\u001b[1;32m----> 8\u001b[1;33m     \u001b[1;32mreturn\u001b[0m \u001b[0msum\u001b[0m\u001b[1;33m(\u001b[0m\u001b[1;36m1\u001b[0m \u001b[1;32mfor\u001b[0m \u001b[0mblob\u001b[0m \u001b[1;32min\u001b[0m \u001b[0mbloblist\u001b[0m \u001b[1;32mif\u001b[0m \u001b[0mword\u001b[0m \u001b[1;32min\u001b[0m \u001b[0mblob\u001b[0m\u001b[1;33m.\u001b[0m\u001b[0mwords\u001b[0m\u001b[1;33m)\u001b[0m\u001b[1;33m\u001b[0m\u001b[0m\n\u001b[0m\u001b[0;32m      9\u001b[0m \u001b[1;33m\u001b[0m\u001b[0m\n\u001b[0;32m     10\u001b[0m \u001b[1;32mdef\u001b[0m \u001b[0midf\u001b[0m\u001b[1;33m(\u001b[0m\u001b[0mword\u001b[0m\u001b[1;33m,\u001b[0m \u001b[0mbloblist\u001b[0m\u001b[1;33m)\u001b[0m\u001b[1;33m:\u001b[0m\u001b[1;33m\u001b[0m\u001b[0m\n",
      "\u001b[1;32mc:\\nlp\\lib\\site-packages\\textblob\\decorators.py\u001b[0m in \u001b[0;36m__get__\u001b[1;34m(self, obj, cls)\u001b[0m\n\u001b[0;32m     22\u001b[0m         \u001b[1;32mif\u001b[0m \u001b[0mobj\u001b[0m \u001b[1;32mis\u001b[0m \u001b[1;32mNone\u001b[0m\u001b[1;33m:\u001b[0m\u001b[1;33m\u001b[0m\u001b[0m\n\u001b[0;32m     23\u001b[0m             \u001b[1;32mreturn\u001b[0m \u001b[0mself\u001b[0m\u001b[1;33m\u001b[0m\u001b[0m\n\u001b[1;32m---> 24\u001b[1;33m         \u001b[0mvalue\u001b[0m \u001b[1;33m=\u001b[0m \u001b[0mobj\u001b[0m\u001b[1;33m.\u001b[0m\u001b[0m__dict__\u001b[0m\u001b[1;33m[\u001b[0m\u001b[0mself\u001b[0m\u001b[1;33m.\u001b[0m\u001b[0mfunc\u001b[0m\u001b[1;33m.\u001b[0m\u001b[0m__name__\u001b[0m\u001b[1;33m]\u001b[0m \u001b[1;33m=\u001b[0m \u001b[0mself\u001b[0m\u001b[1;33m.\u001b[0m\u001b[0mfunc\u001b[0m\u001b[1;33m(\u001b[0m\u001b[0mobj\u001b[0m\u001b[1;33m)\u001b[0m\u001b[1;33m\u001b[0m\u001b[0m\n\u001b[0m\u001b[0;32m     25\u001b[0m         \u001b[1;32mreturn\u001b[0m \u001b[0mvalue\u001b[0m\u001b[1;33m\u001b[0m\u001b[0m\n\u001b[0;32m     26\u001b[0m \u001b[1;33m\u001b[0m\u001b[0m\n",
      "\u001b[1;32mc:\\nlp\\lib\\site-packages\\textblob\\blob.py\u001b[0m in \u001b[0;36mwords\u001b[1;34m(self)\u001b[0m\n\u001b[0;32m    622\u001b[0m         \u001b[1;33m:\u001b[0m\u001b[0mreturns\u001b[0m\u001b[1;33m:\u001b[0m \u001b[0mA\u001b[0m \u001b[1;33m:\u001b[0m\u001b[1;32mclass\u001b[0m\u001b[1;33m:\u001b[0m\u001b[0;31m`\u001b[0m\u001b[0mWordList\u001b[0m \u001b[1;33m<\u001b[0m\u001b[0mWordList\u001b[0m\u001b[1;33m>\u001b[0m\u001b[0;31m`\u001b[0m \u001b[0mof\u001b[0m \u001b[0mword\u001b[0m \u001b[0mtokens\u001b[0m\u001b[1;33m.\u001b[0m\u001b[1;33m\u001b[0m\u001b[0m\n\u001b[0;32m    623\u001b[0m         \"\"\"\n\u001b[1;32m--> 624\u001b[1;33m         \u001b[1;32mreturn\u001b[0m \u001b[0mWordList\u001b[0m\u001b[1;33m(\u001b[0m\u001b[0mword_tokenize\u001b[0m\u001b[1;33m(\u001b[0m\u001b[0mself\u001b[0m\u001b[1;33m.\u001b[0m\u001b[0mraw\u001b[0m\u001b[1;33m,\u001b[0m \u001b[0minclude_punc\u001b[0m\u001b[1;33m=\u001b[0m\u001b[1;32mFalse\u001b[0m\u001b[1;33m)\u001b[0m\u001b[1;33m)\u001b[0m\u001b[1;33m\u001b[0m\u001b[0m\n\u001b[0m\u001b[0;32m    625\u001b[0m \u001b[1;33m\u001b[0m\u001b[0m\n\u001b[0;32m    626\u001b[0m     \u001b[1;33m@\u001b[0m\u001b[0mproperty\u001b[0m\u001b[1;33m\u001b[0m\u001b[0m\n",
      "\u001b[1;32mc:\\nlp\\lib\\site-packages\\textblob\\blob.py\u001b[0m in \u001b[0;36m__init__\u001b[1;34m(self, collection)\u001b[0m\n\u001b[0;32m    213\u001b[0m         \u001b[0mits\u001b[0m \u001b[0monly\u001b[0m \u001b[0margument\u001b[0m\u001b[1;33m.\u001b[0m\u001b[1;33m\u001b[0m\u001b[0m\n\u001b[0;32m    214\u001b[0m         \"\"\"\n\u001b[1;32m--> 215\u001b[1;33m         \u001b[0mself\u001b[0m\u001b[1;33m.\u001b[0m\u001b[0m_collection\u001b[0m \u001b[1;33m=\u001b[0m \u001b[1;33m[\u001b[0m\u001b[0mWord\u001b[0m\u001b[1;33m(\u001b[0m\u001b[0mw\u001b[0m\u001b[1;33m)\u001b[0m \u001b[1;32mfor\u001b[0m \u001b[0mw\u001b[0m \u001b[1;32min\u001b[0m \u001b[0mcollection\u001b[0m\u001b[1;33m]\u001b[0m\u001b[1;33m\u001b[0m\u001b[0m\n\u001b[0m\u001b[0;32m    216\u001b[0m         \u001b[0msuper\u001b[0m\u001b[1;33m(\u001b[0m\u001b[0mWordList\u001b[0m\u001b[1;33m,\u001b[0m \u001b[0mself\u001b[0m\u001b[1;33m)\u001b[0m\u001b[1;33m.\u001b[0m\u001b[0m__init__\u001b[0m\u001b[1;33m(\u001b[0m\u001b[0mself\u001b[0m\u001b[1;33m.\u001b[0m\u001b[0m_collection\u001b[0m\u001b[1;33m)\u001b[0m\u001b[1;33m\u001b[0m\u001b[0m\n\u001b[0;32m    217\u001b[0m \u001b[1;33m\u001b[0m\u001b[0m\n",
      "\u001b[1;32mc:\\nlp\\lib\\site-packages\\textblob\\blob.py\u001b[0m in \u001b[0;36m<listcomp>\u001b[1;34m(.0)\u001b[0m\n\u001b[0;32m    213\u001b[0m         \u001b[0mits\u001b[0m \u001b[0monly\u001b[0m \u001b[0margument\u001b[0m\u001b[1;33m.\u001b[0m\u001b[1;33m\u001b[0m\u001b[0m\n\u001b[0;32m    214\u001b[0m         \"\"\"\n\u001b[1;32m--> 215\u001b[1;33m         \u001b[0mself\u001b[0m\u001b[1;33m.\u001b[0m\u001b[0m_collection\u001b[0m \u001b[1;33m=\u001b[0m \u001b[1;33m[\u001b[0m\u001b[0mWord\u001b[0m\u001b[1;33m(\u001b[0m\u001b[0mw\u001b[0m\u001b[1;33m)\u001b[0m \u001b[1;32mfor\u001b[0m \u001b[0mw\u001b[0m \u001b[1;32min\u001b[0m \u001b[0mcollection\u001b[0m\u001b[1;33m]\u001b[0m\u001b[1;33m\u001b[0m\u001b[0m\n\u001b[0m\u001b[0;32m    216\u001b[0m         \u001b[0msuper\u001b[0m\u001b[1;33m(\u001b[0m\u001b[0mWordList\u001b[0m\u001b[1;33m,\u001b[0m \u001b[0mself\u001b[0m\u001b[1;33m)\u001b[0m\u001b[1;33m.\u001b[0m\u001b[0m__init__\u001b[0m\u001b[1;33m(\u001b[0m\u001b[0mself\u001b[0m\u001b[1;33m.\u001b[0m\u001b[0m_collection\u001b[0m\u001b[1;33m)\u001b[0m\u001b[1;33m\u001b[0m\u001b[0m\n\u001b[0;32m    217\u001b[0m \u001b[1;33m\u001b[0m\u001b[0m\n",
      "\u001b[1;32mc:\\nlp\\lib\\site-packages\\textblob\\tokenizers.py\u001b[0m in \u001b[0;36m<genexpr>\u001b[1;34m(.0)\u001b[0m\n\u001b[0;32m     70\u001b[0m         _word_tokenizer.itokenize(sentence, include_punc=include_punc,\n\u001b[0;32m     71\u001b[0m                                 *args, **kwargs)\n\u001b[1;32m---> 72\u001b[1;33m         for sentence in sent_tokenize(text))\n\u001b[0m\u001b[0;32m     73\u001b[0m     \u001b[1;32mreturn\u001b[0m \u001b[0mwords\u001b[0m\u001b[1;33m\u001b[0m\u001b[0m\n",
      "\u001b[1;32mc:\\nlp\\lib\\site-packages\\textblob\\base.py\u001b[0m in \u001b[0;36mitokenize\u001b[1;34m(self, text, *args, **kwargs)\u001b[0m\n\u001b[0;32m     62\u001b[0m         \u001b[1;33m:\u001b[0m\u001b[0mrtype\u001b[0m\u001b[1;33m:\u001b[0m \u001b[0mgenerator\u001b[0m\u001b[1;33m\u001b[0m\u001b[0m\n\u001b[0;32m     63\u001b[0m         \"\"\"\n\u001b[1;32m---> 64\u001b[1;33m         \u001b[1;32mreturn\u001b[0m \u001b[1;33m(\u001b[0m\u001b[0mt\u001b[0m \u001b[1;32mfor\u001b[0m \u001b[0mt\u001b[0m \u001b[1;32min\u001b[0m \u001b[0mself\u001b[0m\u001b[1;33m.\u001b[0m\u001b[0mtokenize\u001b[0m\u001b[1;33m(\u001b[0m\u001b[0mtext\u001b[0m\u001b[1;33m,\u001b[0m \u001b[1;33m*\u001b[0m\u001b[0margs\u001b[0m\u001b[1;33m,\u001b[0m \u001b[1;33m**\u001b[0m\u001b[0mkwargs\u001b[0m\u001b[1;33m)\u001b[0m\u001b[1;33m)\u001b[0m\u001b[1;33m\u001b[0m\u001b[0m\n\u001b[0m\u001b[0;32m     65\u001b[0m \u001b[1;33m\u001b[0m\u001b[0m\n\u001b[0;32m     66\u001b[0m \u001b[1;31m##### SENTIMENT ANALYZERS ####\u001b[0m\u001b[1;33m\u001b[0m\u001b[1;33m\u001b[0m\u001b[0m\n",
      "\u001b[1;31mKeyboardInterrupt\u001b[0m: "
     ]
    }
   ],
   "source": [
    "import math\n",
    "from textblob import TextBlob as tb\n",
    "\n",
    "def tf(word, blob):\n",
    "    return blob.words.count(word) / len(blob.words)\n",
    "\n",
    "def n_containing(word, bloblist):\n",
    "    return sum(1 for blob in bloblist if word in blob.words)\n",
    "\n",
    "def idf(word, bloblist):\n",
    "    return math.log(len(bloblist) / (1 + n_containing(word, bloblist)))\n",
    "\n",
    "def tfidf(word, blob, bloblist):\n",
    "    return tf(word, blob) * idf(word, bloblist)\n",
    "\n",
    "import pickle\n",
    "all_docs = all_docs = pickle.load(open(r\"C:\\nlp\\texts_parsed(list_of_list).pkl\", 'rb'))\n",
    "bloblist = [ tb( ' '.join(doc) ) for doc in all_docs]\n",
    "\n",
    "for i, blob in enumerate(bloblist):\n",
    "    print(\"Top words in document {}\".format(i + 1))\n",
    "    scores = {word: tfidf(word, blob, bloblist) for word in blob.words}\n",
    "    sorted_words = sorted(scores.items(), key=lambda x: x[1], reverse=True)\n",
    "    for word, score in sorted_words[:30]:\n",
    "        print(\"\\tWord: {}, TF-IDF: {}\".format(word, round(score, 5)))"
   ]
  },
  {
   "cell_type": "code",
   "execution_count": null,
   "metadata": {
    "collapsed": true
   },
   "outputs": [],
   "source": []
  }
 ],
 "metadata": {
  "kernelspec": {
   "display_name": "Python 3",
   "language": "python",
   "name": "python3"
  },
  "language_info": {
   "codemirror_mode": {
    "name": "ipython",
    "version": 3
   },
   "file_extension": ".py",
   "mimetype": "text/x-python",
   "name": "python",
   "nbconvert_exporter": "python",
   "pygments_lexer": "ipython3",
   "version": "3.6.2"
  }
 },
 "nbformat": 4,
 "nbformat_minor": 2
}
